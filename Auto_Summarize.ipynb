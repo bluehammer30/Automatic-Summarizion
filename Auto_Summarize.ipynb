{
 "cells": [
  {
   "cell_type": "code",
   "execution_count": 1,
   "source": [
    "# Import dependencies from transformers\n",
    "# tokenizer allows us to transform sentences into a set of tokens \n",
    "\n",
    "from transformers import PegasusForConditionalGeneration, PegasusTokenizer\n"
   ],
   "outputs": [],
   "metadata": {}
  },
  {
   "cell_type": "code",
   "execution_count": 2,
   "source": [
    "# Create tokenizer\n",
    "tokenizer = PegasusTokenizer.from_pretrained(\"google/pegasus-xsum\")"
   ],
   "outputs": [
    {
     "output_type": "stream",
     "name": "stderr",
     "text": [
      "Downloading: 100%|██████████| 1.91M/1.91M [00:00<00:00, 4.26MB/s]\n",
      "Downloading: 100%|██████████| 65.0/65.0 [00:00<00:00, 13.5kB/s]\n",
      "Downloading: 100%|██████████| 87.0/87.0 [00:00<00:00, 17.8kB/s]\n",
      "Downloading: 100%|██████████| 3.52M/3.52M [00:00<00:00, 4.44MB/s]\n",
      "Downloading: 100%|██████████| 1.36k/1.36k [00:00<00:00, 269kB/s]\n"
     ]
    }
   ],
   "metadata": {}
  },
  {
   "cell_type": "code",
   "execution_count": 3,
   "source": [
    "# load pretrained model\n",
    "model = PegasusForConditionalGeneration.from_pretrained(\"google/pegasus-xsum\")"
   ],
   "outputs": [
    {
     "output_type": "stream",
     "name": "stderr",
     "text": [
      "Downloading: 100%|██████████| 2.28G/2.28G [02:45<00:00, 13.7MB/s]\n"
     ]
    }
   ],
   "metadata": {}
  },
  {
   "cell_type": "code",
   "execution_count": 4,
   "source": [
    "# perfrom abstractive summarization\n",
    "\n",
    "text = \"\"\"\n",
    "Python is an interpreted high-level general-purpose programming language. Its design philosophy emphasizes code readability with its use of significant indentation. Its language constructs as well as its object-oriented approach aim to help programmers write clear, logical code for small and large-scale projects.[30]\n",
    "\n",
    "Python is dynamically-typed and garbage-collected. It supports multiple programming paradigms, including structured (particularly, procedural), object-oriented and functional programming. It is often described as a \"batteries included\" language due to its comprehensive standard library.[31]\n",
    "\n",
    "Guido van Rossum began working on Python in the late 1980s, as a successor to the ABC programming language, and first released it in 1991 as Python 0.9.0.[32] Python 2.0 was released in 2000 and introduced new features, such as list comprehensions and a garbage collection system using reference counting. Python 3.0 was released in 2008 and was a major revision of the language that is not completely backward-compatible. Python 2 was discontinued with version 2.7.18 in 2020.[33]\n",
    "\"\"\"\n"
   ],
   "outputs": [],
   "metadata": {}
  },
  {
   "cell_type": "code",
   "execution_count": 5,
   "source": [
    "# convert into tokens (number representation of text)\n",
    "# passing into tokenizer the body of text\n",
    "# passing in truncation, which will shorten text to an appropriate length\n",
    "# make the padding as long as possible\n",
    "# return pytorch tensors\n",
    "tokens = tokenizer(text, truncation=True, padding=\"longest\", return_tensors=\"pt\")"
   ],
   "outputs": [],
   "metadata": {}
  },
  {
   "cell_type": "code",
   "execution_count": null,
   "source": [
    "# summarize the text\n",
    "# the summary in tensors\n",
    "summary = model.generate(**tokens)"
   ],
   "outputs": [],
   "metadata": {}
  },
  {
   "cell_type": "code",
   "execution_count": null,
   "source": [
    "# decode the tensors\n",
    "tokenizer.decode(summary[0])"
   ],
   "outputs": [],
   "metadata": {}
  }
 ],
 "metadata": {
  "orig_nbformat": 4,
  "language_info": {
   "name": "python",
   "version": "3.7.0",
   "mimetype": "text/x-python",
   "codemirror_mode": {
    "name": "ipython",
    "version": 3
   },
   "pygments_lexer": "ipython3",
   "nbconvert_exporter": "python",
   "file_extension": ".py"
  },
  "kernelspec": {
   "name": "python3",
   "display_name": "Python 3.7.0 64-bit ('tf24': conda)"
  },
  "interpreter": {
   "hash": "b93de42d5ede0e0add043439ee97fde27b631c2641de3705777fe90f9ce9cee5"
  }
 },
 "nbformat": 4,
 "nbformat_minor": 2
}